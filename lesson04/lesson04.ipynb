{
 "cells": [
  {
   "cell_type": "markdown",
   "metadata": {},
   "source": [
    "# Д/З №4"
   ]
  },
  {
   "cell_type": "markdown",
   "metadata": {},
   "source": [
    "1. __(!)__ Создайте \\*.py модули, в которые будет вынесено (1) построение датасета, (2) обработка датасета, (4) обучение модели (можно с подбором признаков), (5) валидация и оценка качества, (6) предсказание ответов для тестовой выборки.\n",
    "\n",
    "> начал создавать, принцип понятен. В том что создал нужно много чего переписать :) ну и доделать 5 и 6 пункты - к сожалению не успел\n",
    "> пример использования ниже\n",
    "\n",
    "2. Подумайте, как повлияет на дизайн и организацию АБ-теста проведение одновременно с тестом акции на проекте, в рамках которой игрокам определенного уровня буду предложены ценные предметы по скидкам, что должно само по себе улучшить вовлеченность аудитории и может повлиять на отток?\n",
    "\n",
    "> думаю в данном случае при проведении АБ теста нужно обязательно учитывать этот факт при оценке, т.е. например разделить на 2 теста, т.е. аудитория которая получила скидку по акции и те кто не получил \n",
    "\n",
    "> их протестировать отдельно и сделать выводы как повлияло на отток в этих 2х группах\n",
    "\n",
    "3. Что делать, если в ходе оценки бизнес эффекта полученное значение RevenueBoost < 0?\n",
    "\n",
    "> полученное значение меньше нуля означает что эффект для бизнеса был полностью противоположный, т.е. даже если отток стал меньше сам по себе но засчет предложенных скидок (или других действий данного теста) бизнес потерял прибыль\n",
    "\n",
    "> возможно в долгосрочной перспективе это и принесет прибыль но мне кажется это означает что данную акцию (которую тестировали) можно считать неудачной "
   ]
  },
  {
   "cell_type": "code",
   "execution_count": 86,
   "metadata": {
    "ExecuteTime": {
     "end_time": "2020-04-01T04:57:20.304880Z",
     "start_time": "2020-04-01T04:57:20.296374Z"
    }
   },
   "outputs": [],
   "source": [
    "import pandas as pd\n",
    "from datetime import datetime, timedelta\n",
    "import importlib\n",
    "import logging\n",
    "logging.getLogger().setLevel(logging.DEBUG)"
   ]
  },
  {
   "cell_type": "code",
   "execution_count": 13,
   "metadata": {
    "ExecuteTime": {
     "end_time": "2020-04-01T02:06:28.022545Z",
     "start_time": "2020-04-01T02:06:28.019171Z"
    }
   },
   "outputs": [],
   "source": [
    "import processing.extractor as ex"
   ]
  },
  {
   "cell_type": "code",
   "execution_count": 87,
   "metadata": {
    "ExecuteTime": {
     "end_time": "2020-04-01T05:32:32.172220Z",
     "start_time": "2020-04-01T04:57:25.110442Z"
    },
    "scrolled": false
   },
   "outputs": [
    {
     "name": "stderr",
     "output_type": "stream",
     "text": [
      "DEBUG:root:In `../train` folder found these files:\n",
      "\t['abusers.csv.gz', 'logins.csv.gz', 'nuclear.csv.gz', 'payments.csv.gz', 'pings.csv.gz', 'profiles.csv.gz', 'reports.csv.gz', 'sample.csv.gz', 'sessions.csv.gz', 'shop.csv.gz']\n",
      "INFO:root:Read sample file\n",
      "DEBUG:root:File `sample.csv.gz` loaded in 6.27 sec\n",
      "INFO:root:Extract data from files and attach to dataset, create features based on [(1, 7), (8, 14), (15, 21), (22, 28)] intervals\n",
      "INFO:root:Processing data from `abusers.csv.gz` dataset\n",
      "DEBUG:root:File `abusers.csv.gz` loaded in 141.40 sec\n",
      "DEBUG:root:... dynamic data calculate features\n",
      "DEBUG:root:...... processing found ['sess_with_abusers_amt'] features\n",
      "DEBUG:root:... add dynamic data\n",
      "INFO:root:Done in 315.28 sec\n",
      "INFO:root:Processing data from `logins.csv.gz` dataset\n",
      "DEBUG:root:File `logins.csv.gz` loaded in 179.48 sec\n",
      "DEBUG:root:... dynamic data calculate features\n",
      "DEBUG:root:...... processing found ['session_amt', 'disconnect_amt'] features\n",
      "DEBUG:root:... add dynamic data\n",
      "INFO:root:Done in 406.38 sec\n",
      "INFO:root:Processing data from `nuclear.csv.gz` dataset\n",
      "DEBUG:root:File `nuclear.csv.gz` loaded in 1.02 sec\n",
      "DEBUG:root:... static data adding right to dataset, added columns ['core_type_nm']\n",
      "INFO:root:Done in 8.93 sec\n",
      "INFO:root:Processing data from `payments.csv.gz` dataset\n",
      "DEBUG:root:File `payments.csv.gz` loaded in 13.76 sec\n",
      "DEBUG:root:... dynamic data calculate features\n",
      "DEBUG:root:...... processing found ['pay_amt', 'trans_amt'] features\n",
      "DEBUG:root:... add dynamic data\n",
      "INFO:root:Done in 31.71 sec\n",
      "INFO:root:Processing data from `pings.csv.gz` dataset\n",
      "DEBUG:root:File `pings.csv.gz` loaded in 171.27 sec\n",
      "DEBUG:root:... dynamic data calculate features\n",
      "DEBUG:root:...... processing found ['avg_min_ping'] features\n",
      "DEBUG:root:... add dynamic data\n",
      "INFO:root:Done in 368.22 sec\n",
      "INFO:root:Processing data from `profiles.csv.gz` dataset\n",
      "DEBUG:root:File `profiles.csv.gz` loaded in 1.49 sec\n",
      "DEBUG:root:... static data adding right to dataset, added columns ['age', 'gender', 'days_between_reg_fl', 'days_between_fl_df', 'has_return_date', 'has_phone_number']\n",
      "INFO:root:Done in 7.10 sec\n",
      "INFO:root:Processing data from `reports.csv.gz` dataset\n",
      "DEBUG:root:File `reports.csv.gz` loaded in 40.03 sec\n",
      "DEBUG:root:... dynamic data calculate features\n",
      "DEBUG:root:...... processing found ['reports_amt'] features\n",
      "DEBUG:root:... add dynamic data\n",
      "INFO:root:Done in 92.05 sec\n",
      "INFO:root:Processing data from `sessions.csv.gz` dataset\n",
      "DEBUG:root:File `sessions.csv.gz` loaded in 185.78 sec\n",
      "DEBUG:root:... dynamic data calculate features\n",
      "DEBUG:root:...... processing found ['leavings_rate', 'win_rate', 'kd', 'session_player'] features\n",
      "DEBUG:root:... add dynamic data\n",
      "INFO:root:Done in 395.77 sec\n",
      "INFO:root:Processing data from `shop.csv.gz` dataset\n",
      "DEBUG:root:File `shop.csv.gz` loaded in 175.83 sec\n",
      "DEBUG:root:... dynamic data calculate features\n",
      "DEBUG:root:...... processing found ['silver_spent', 'gold_spent'] features\n",
      "DEBUG:root:... add dynamic data\n",
      "INFO:root:Done in 394.92 sec\n",
      "INFO:root:Saving dataset to `dataset/dataset_train.csv.gz` file\n"
     ]
    }
   ],
   "source": [
    "importlib.reload(ex)\n",
    "df = ex.Extractor(folder='../train',\n",
    "             output_file='dataset/dataset_train.csv.gz').build()"
   ]
  },
  {
   "cell_type": "code",
   "execution_count": 93,
   "metadata": {
    "ExecuteTime": {
     "end_time": "2020-04-01T05:41:16.000897Z",
     "start_time": "2020-04-01T05:38:23.578670Z"
    }
   },
   "outputs": [
    {
     "name": "stderr",
     "output_type": "stream",
     "text": [
      "DEBUG:root:In `../test` folder found these files:\n",
      "\t['abusers.csv.gz', 'logins.csv.gz', 'nuclear.csv.gz', 'payments.csv.gz', 'pings.csv.gz', 'profiles.csv.gz', 'reports.csv.gz', 'sample.csv.gz', 'sessions.csv.gz', 'shop.csv.gz']\n",
      "INFO:root:Read sample file\n",
      "DEBUG:root:File `../test/sample.csv.gz` loaded in 0.60 sec\n",
      "INFO:root:Extract data from files and attach to dataset, create features based on [(1, 7), (8, 14), (15, 21), (22, 28)] intervals\n",
      "INFO:root:Processing data from `abusers.csv.gz` dataset\n",
      "DEBUG:root:File `../test/abusers.csv.gz` loaded in 12.23 sec\n",
      "DEBUG:root:... dynamic data calculate features\n",
      "DEBUG:root:...... processing found ['sess_with_abusers_amt'] features\n",
      "DEBUG:root:... add dynamic data\n",
      "INFO:root:Done in 27.49 sec\n",
      "INFO:root:Processing data from `logins.csv.gz` dataset\n",
      "DEBUG:root:File `../test/logins.csv.gz` loaded in 14.57 sec\n",
      "DEBUG:root:... dynamic data calculate features\n",
      "DEBUG:root:...... processing found ['session_amt', 'disconnect_amt'] features\n",
      "DEBUG:root:... add dynamic data\n",
      "INFO:root:Done in 30.22 sec\n",
      "INFO:root:Processing data from `nuclear.csv.gz` dataset\n",
      "DEBUG:root:File `../test/nuclear.csv.gz` loaded in 0.11 sec\n",
      "DEBUG:root:... static data adding right to dataset, added columns ['core_type_nm']\n",
      "INFO:root:Done in 0.30 sec\n",
      "INFO:root:Processing data from `payments.csv.gz` dataset\n",
      "DEBUG:root:File `../test/payments.csv.gz` loaded in 0.99 sec\n",
      "DEBUG:root:... dynamic data calculate features\n",
      "DEBUG:root:...... processing found ['pay_amt', 'trans_amt'] features\n",
      "DEBUG:root:... add dynamic data\n",
      "INFO:root:Done in 2.33 sec\n",
      "INFO:root:Processing data from `pings.csv.gz` dataset\n",
      "DEBUG:root:File `../test/pings.csv.gz` loaded in 14.86 sec\n",
      "DEBUG:root:... dynamic data calculate features\n",
      "DEBUG:root:...... processing found ['avg_min_ping'] features\n",
      "DEBUG:root:... add dynamic data\n",
      "INFO:root:Done in 31.82 sec\n",
      "INFO:root:Processing data from `profiles.csv.gz` dataset\n",
      "DEBUG:root:File `../test/profiles.csv.gz` loaded in 0.14 sec\n",
      "DEBUG:root:... static data adding right to dataset, added columns ['age', 'gender', 'days_between_reg_fl', 'days_between_fl_df', 'has_return_date', 'has_phone_number']\n",
      "INFO:root:Done in 0.28 sec\n",
      "INFO:root:Processing data from `reports.csv.gz` dataset\n",
      "DEBUG:root:File `../test/reports.csv.gz` loaded in 4.10 sec\n",
      "DEBUG:root:... dynamic data calculate features\n",
      "DEBUG:root:...... processing found ['reports_amt'] features\n",
      "DEBUG:root:... add dynamic data\n",
      "INFO:root:Done in 8.89 sec\n",
      "INFO:root:Processing data from `sessions.csv.gz` dataset\n",
      "DEBUG:root:File `../test/sessions.csv.gz` loaded in 14.32 sec\n",
      "DEBUG:root:... dynamic data calculate features\n",
      "DEBUG:root:...... processing found ['leavings_rate', 'win_rate', 'kd', 'session_player'] features\n",
      "DEBUG:root:... add dynamic data\n",
      "INFO:root:Done in 31.12 sec\n",
      "INFO:root:Processing data from `shop.csv.gz` dataset\n",
      "DEBUG:root:File `../test/shop.csv.gz` loaded in 15.19 sec\n",
      "DEBUG:root:... dynamic data calculate features\n",
      "DEBUG:root:...... processing found ['silver_spent', 'gold_spent'] features\n",
      "DEBUG:root:... add dynamic data\n",
      "INFO:root:Done in 32.88 sec\n",
      "INFO:root:Saving dataset to `dataset/dataset_test.csv.gz` file\n"
     ]
    }
   ],
   "source": [
    "INTER_1 = (1,7)\n",
    "INTER_2 = (8,14)\n",
    "INTER_3 = (15,21)\n",
    "INTER_4 = (22,28)\n",
    "INTER_LIST = [INTER_1, INTER_2, INTER_3, INTER_4]\n",
    "importlib.reload(ex)\n",
    "df = ex.Extractor(folder='../test', intervals = INTER_LIST,\n",
    "                 output_file='dataset/dataset_test.csv.gz').build()"
   ]
  },
  {
   "cell_type": "code",
   "execution_count": 116,
   "metadata": {
    "ExecuteTime": {
     "end_time": "2020-04-01T06:08:49.557453Z",
     "start_time": "2020-04-01T06:08:49.552121Z"
    }
   },
   "outputs": [],
   "source": [
    "import processing.preparer as pr"
   ]
  },
  {
   "cell_type": "code",
   "execution_count": 117,
   "metadata": {
    "ExecuteTime": {
     "end_time": "2020-04-01T06:10:45.976068Z",
     "start_time": "2020-04-01T06:09:01.753784Z"
    }
   },
   "outputs": [
    {
     "name": "stderr",
     "output_type": "stream",
     "text": [
      "INFO:root:Read sample file\n",
      "DEBUG:root:File `dataset/dataset_train.csv.gz` loaded in 6.73 sec\n",
      "INFO:root:Special processing\n",
      "DEBUG:root:... proccesing `core_type_nm` column\n",
      "DEBUG:root:... proccesing `avg_min_ping_1` column\n",
      "DEBUG:root:... proccesing `avg_min_ping_2` column\n",
      "DEBUG:root:... proccesing `avg_min_ping_3` column\n",
      "DEBUG:root:... proccesing `avg_min_ping_4` column\n",
      "DEBUG:root:... proccesing `age` column\n",
      "DEBUG:root:... proccesing `gender` column\n",
      "DEBUG:root:... proccesing `days_between_fl_df` column\n",
      "INFO:root:Fill the rest\n",
      "INFO:root:Saving dataset to `dataset/dataset_train_clean.csv.gz` file\n"
     ]
    }
   ],
   "source": [
    "df = pr.Preparer('dataset/dataset_train.csv.gz', 'dataset/dataset_train_clean.csv.gz').build()"
   ]
  },
  {
   "cell_type": "code",
   "execution_count": 114,
   "metadata": {
    "ExecuteTime": {
     "end_time": "2020-04-01T06:08:14.253194Z",
     "start_time": "2020-04-01T06:08:03.609708Z"
    }
   },
   "outputs": [
    {
     "name": "stderr",
     "output_type": "stream",
     "text": [
      "INFO:root:Read sample file\n",
      "DEBUG:root:File `dataset/dataset_test.csv.gz` loaded in 0.88 sec\n",
      "INFO:root:Special processing\n",
      "DEBUG:root:... proccesing `core_type_nm` column\n",
      "DEBUG:root:... proccesing `avg_min_ping_1` column\n",
      "DEBUG:root:... proccesing `avg_min_ping_2` column\n",
      "DEBUG:root:... proccesing `avg_min_ping_3` column\n",
      "DEBUG:root:... proccesing `avg_min_ping_4` column\n",
      "DEBUG:root:... proccesing `age` column\n",
      "DEBUG:root:... proccesing `gender` column\n",
      "DEBUG:root:... proccesing `days_between_fl_df` column\n",
      "INFO:root:Fill the rest\n",
      "INFO:root:Saving dataset to `dataset/dataset_test_clean.csv.gz` file\n"
     ]
    }
   ],
   "source": [
    "importlib.reload(pr)\n",
    "df = pr.Preparer('dataset/dataset_test.csv.gz', 'dataset/dataset_test_clean.csv.gz').build()"
   ]
  },
  {
   "cell_type": "code",
   "execution_count": 115,
   "metadata": {
    "ExecuteTime": {
     "end_time": "2020-04-01T06:08:14.339704Z",
     "start_time": "2020-04-01T06:08:14.256587Z"
    }
   },
   "outputs": [
    {
     "data": {
      "text/html": [
       "<div>\n",
       "<style scoped>\n",
       "    .dataframe tbody tr th:only-of-type {\n",
       "        vertical-align: middle;\n",
       "    }\n",
       "\n",
       "    .dataframe tbody tr th {\n",
       "        vertical-align: top;\n",
       "    }\n",
       "\n",
       "    .dataframe thead th {\n",
       "        text-align: right;\n",
       "    }\n",
       "</style>\n",
       "<table border=\"1\" class=\"dataframe\">\n",
       "  <thead>\n",
       "    <tr style=\"text-align: right;\">\n",
       "      <th></th>\n",
       "      <th>user_id</th>\n",
       "      <th>level</th>\n",
       "      <th>donate_total</th>\n",
       "      <th>sess_with_abusers_amt_1</th>\n",
       "      <th>sess_with_abusers_amt_2</th>\n",
       "      <th>sess_with_abusers_amt_3</th>\n",
       "      <th>sess_with_abusers_amt_4</th>\n",
       "      <th>session_amt_1</th>\n",
       "      <th>session_amt_2</th>\n",
       "      <th>session_amt_3</th>\n",
       "      <th>...</th>\n",
       "      <th>silver_spent_2</th>\n",
       "      <th>silver_spent_3</th>\n",
       "      <th>silver_spent_4</th>\n",
       "      <th>gold_spent_1</th>\n",
       "      <th>gold_spent_2</th>\n",
       "      <th>gold_spent_3</th>\n",
       "      <th>gold_spent_4</th>\n",
       "      <th>Type_Core</th>\n",
       "      <th>Type_Returns</th>\n",
       "      <th>Type_Mantle</th>\n",
       "    </tr>\n",
       "  </thead>\n",
       "  <tbody>\n",
       "    <tr>\n",
       "      <th>0</th>\n",
       "      <td>0bda14606761d90210e6e5f7432b5a5c2f7cbda6d5144e...</td>\n",
       "      <td>13</td>\n",
       "      <td>11972.219727</td>\n",
       "      <td>0.000000</td>\n",
       "      <td>0.000000</td>\n",
       "      <td>0.000000</td>\n",
       "      <td>0.000000</td>\n",
       "      <td>0.000000</td>\n",
       "      <td>0.000000</td>\n",
       "      <td>0.000000</td>\n",
       "      <td>...</td>\n",
       "      <td>0.000000</td>\n",
       "      <td>0.000000</td>\n",
       "      <td>0.000000</td>\n",
       "      <td>0.000000</td>\n",
       "      <td>0.000000</td>\n",
       "      <td>0.000000</td>\n",
       "      <td>0.000000</td>\n",
       "      <td>0</td>\n",
       "      <td>0</td>\n",
       "      <td>0</td>\n",
       "    </tr>\n",
       "    <tr>\n",
       "      <th>1</th>\n",
       "      <td>beaabc52f2f369d27d4b4132d6629e475f2117568a9041...</td>\n",
       "      <td>25</td>\n",
       "      <td>8000.000000</td>\n",
       "      <td>9.800000</td>\n",
       "      <td>13.600000</td>\n",
       "      <td>11.600000</td>\n",
       "      <td>10.500000</td>\n",
       "      <td>0.800000</td>\n",
       "      <td>1.000000</td>\n",
       "      <td>1.200000</td>\n",
       "      <td>...</td>\n",
       "      <td>660.000000</td>\n",
       "      <td>2560.000000</td>\n",
       "      <td>0.000000</td>\n",
       "      <td>0.000000</td>\n",
       "      <td>0.000000</td>\n",
       "      <td>0.000000</td>\n",
       "      <td>0.000000</td>\n",
       "      <td>1</td>\n",
       "      <td>0</td>\n",
       "      <td>0</td>\n",
       "    </tr>\n",
       "    <tr>\n",
       "      <th>2</th>\n",
       "      <td>969daefac09c760c75e0a131d4397ef43278151ead9232...</td>\n",
       "      <td>12</td>\n",
       "      <td>5408.120117</td>\n",
       "      <td>7.833333</td>\n",
       "      <td>0.000000</td>\n",
       "      <td>0.000000</td>\n",
       "      <td>0.000000</td>\n",
       "      <td>0.333333</td>\n",
       "      <td>0.000000</td>\n",
       "      <td>0.000000</td>\n",
       "      <td>...</td>\n",
       "      <td>0.000000</td>\n",
       "      <td>0.000000</td>\n",
       "      <td>0.000000</td>\n",
       "      <td>4.666667</td>\n",
       "      <td>0.000000</td>\n",
       "      <td>0.000000</td>\n",
       "      <td>0.000000</td>\n",
       "      <td>0</td>\n",
       "      <td>1</td>\n",
       "      <td>0</td>\n",
       "    </tr>\n",
       "    <tr>\n",
       "      <th>3</th>\n",
       "      <td>2f8a302052389f20fbe09e144c60917e5495312f7a83bc...</td>\n",
       "      <td>49</td>\n",
       "      <td>121067.437500</td>\n",
       "      <td>9.285714</td>\n",
       "      <td>7.250000</td>\n",
       "      <td>5.000000</td>\n",
       "      <td>4.500000</td>\n",
       "      <td>2.714286</td>\n",
       "      <td>1.250000</td>\n",
       "      <td>1.400000</td>\n",
       "      <td>...</td>\n",
       "      <td>110250.000000</td>\n",
       "      <td>10000.000000</td>\n",
       "      <td>6000.000000</td>\n",
       "      <td>1.428571</td>\n",
       "      <td>155.000000</td>\n",
       "      <td>0.000000</td>\n",
       "      <td>0.000000</td>\n",
       "      <td>1</td>\n",
       "      <td>0</td>\n",
       "      <td>0</td>\n",
       "    </tr>\n",
       "    <tr>\n",
       "      <th>4</th>\n",
       "      <td>10bf851621a8a69b0900f3b5f3c0904a45f2b952e6e2d4...</td>\n",
       "      <td>11</td>\n",
       "      <td>4194.000000</td>\n",
       "      <td>4.857143</td>\n",
       "      <td>4.571429</td>\n",
       "      <td>4.000000</td>\n",
       "      <td>5.571429</td>\n",
       "      <td>1.571429</td>\n",
       "      <td>1.714286</td>\n",
       "      <td>1.428571</td>\n",
       "      <td>...</td>\n",
       "      <td>17792.857143</td>\n",
       "      <td>19857.142857</td>\n",
       "      <td>0.000000</td>\n",
       "      <td>0.000000</td>\n",
       "      <td>168.571429</td>\n",
       "      <td>25.714286</td>\n",
       "      <td>101.714286</td>\n",
       "      <td>1</td>\n",
       "      <td>0</td>\n",
       "      <td>0</td>\n",
       "    </tr>\n",
       "    <tr>\n",
       "      <th>...</th>\n",
       "      <td>...</td>\n",
       "      <td>...</td>\n",
       "      <td>...</td>\n",
       "      <td>...</td>\n",
       "      <td>...</td>\n",
       "      <td>...</td>\n",
       "      <td>...</td>\n",
       "      <td>...</td>\n",
       "      <td>...</td>\n",
       "      <td>...</td>\n",
       "      <td>...</td>\n",
       "      <td>...</td>\n",
       "      <td>...</td>\n",
       "      <td>...</td>\n",
       "      <td>...</td>\n",
       "      <td>...</td>\n",
       "      <td>...</td>\n",
       "      <td>...</td>\n",
       "      <td>...</td>\n",
       "      <td>...</td>\n",
       "      <td>...</td>\n",
       "    </tr>\n",
       "    <tr>\n",
       "      <th>44840</th>\n",
       "      <td>0d191c1f3201c942f756d9606dccd6e09f5de3aec39bc5...</td>\n",
       "      <td>16</td>\n",
       "      <td>7740.000000</td>\n",
       "      <td>0.000000</td>\n",
       "      <td>0.000000</td>\n",
       "      <td>0.000000</td>\n",
       "      <td>0.000000</td>\n",
       "      <td>0.000000</td>\n",
       "      <td>1.000000</td>\n",
       "      <td>0.000000</td>\n",
       "      <td>...</td>\n",
       "      <td>0.000000</td>\n",
       "      <td>0.000000</td>\n",
       "      <td>0.000000</td>\n",
       "      <td>0.000000</td>\n",
       "      <td>0.000000</td>\n",
       "      <td>0.000000</td>\n",
       "      <td>0.000000</td>\n",
       "      <td>0</td>\n",
       "      <td>1</td>\n",
       "      <td>0</td>\n",
       "    </tr>\n",
       "    <tr>\n",
       "      <th>44841</th>\n",
       "      <td>2ffd16471ccf01091e720859f52f4dd54e59a008ce6b05...</td>\n",
       "      <td>20</td>\n",
       "      <td>20686.000000</td>\n",
       "      <td>7.857143</td>\n",
       "      <td>7.000000</td>\n",
       "      <td>6.428571</td>\n",
       "      <td>11.500000</td>\n",
       "      <td>4.142857</td>\n",
       "      <td>2.714286</td>\n",
       "      <td>4.000000</td>\n",
       "      <td>...</td>\n",
       "      <td>857.142857</td>\n",
       "      <td>11828.571429</td>\n",
       "      <td>7122.857143</td>\n",
       "      <td>187.428571</td>\n",
       "      <td>4.285714</td>\n",
       "      <td>4.000000</td>\n",
       "      <td>209.428571</td>\n",
       "      <td>1</td>\n",
       "      <td>0</td>\n",
       "      <td>0</td>\n",
       "    </tr>\n",
       "    <tr>\n",
       "      <th>44842</th>\n",
       "      <td>fdf340c2f0376f6a382e68f79b619f87263c34d2621600...</td>\n",
       "      <td>11</td>\n",
       "      <td>12286.000000</td>\n",
       "      <td>2.666667</td>\n",
       "      <td>4.000000</td>\n",
       "      <td>3.500000</td>\n",
       "      <td>0.000000</td>\n",
       "      <td>0.666667</td>\n",
       "      <td>1.250000</td>\n",
       "      <td>0.750000</td>\n",
       "      <td>...</td>\n",
       "      <td>5800.000000</td>\n",
       "      <td>2250.000000</td>\n",
       "      <td>0.000000</td>\n",
       "      <td>25.000000</td>\n",
       "      <td>59.000000</td>\n",
       "      <td>22.500000</td>\n",
       "      <td>0.000000</td>\n",
       "      <td>1</td>\n",
       "      <td>0</td>\n",
       "      <td>0</td>\n",
       "    </tr>\n",
       "    <tr>\n",
       "      <th>44843</th>\n",
       "      <td>455e87f959ba40caca6d27e8612fc712f25bf7948906a1...</td>\n",
       "      <td>27</td>\n",
       "      <td>51776.738281</td>\n",
       "      <td>0.000000</td>\n",
       "      <td>1.000000</td>\n",
       "      <td>1.000000</td>\n",
       "      <td>0.000000</td>\n",
       "      <td>0.666667</td>\n",
       "      <td>0.857143</td>\n",
       "      <td>1.333333</td>\n",
       "      <td>...</td>\n",
       "      <td>2571.428571</td>\n",
       "      <td>0.000000</td>\n",
       "      <td>0.000000</td>\n",
       "      <td>0.000000</td>\n",
       "      <td>28.285714</td>\n",
       "      <td>200.000000</td>\n",
       "      <td>0.000000</td>\n",
       "      <td>1</td>\n",
       "      <td>0</td>\n",
       "      <td>0</td>\n",
       "    </tr>\n",
       "    <tr>\n",
       "      <th>44844</th>\n",
       "      <td>bc5633ce52ef3f164e14f16777a8079b1f130be28fd0b1...</td>\n",
       "      <td>21</td>\n",
       "      <td>3162.000000</td>\n",
       "      <td>6.500000</td>\n",
       "      <td>5.666667</td>\n",
       "      <td>8.285714</td>\n",
       "      <td>10.166667</td>\n",
       "      <td>3.333333</td>\n",
       "      <td>1.000000</td>\n",
       "      <td>3.142857</td>\n",
       "      <td>...</td>\n",
       "      <td>3300.000000</td>\n",
       "      <td>4142.857143</td>\n",
       "      <td>6216.666667</td>\n",
       "      <td>0.000000</td>\n",
       "      <td>0.000000</td>\n",
       "      <td>2.571429</td>\n",
       "      <td>0.000000</td>\n",
       "      <td>1</td>\n",
       "      <td>0</td>\n",
       "      <td>0</td>\n",
       "    </tr>\n",
       "  </tbody>\n",
       "</table>\n",
       "<p>44845 rows × 64 columns</p>\n",
       "</div>"
      ],
      "text/plain": [
       "                                                 user_id  level  \\\n",
       "0      0bda14606761d90210e6e5f7432b5a5c2f7cbda6d5144e...     13   \n",
       "1      beaabc52f2f369d27d4b4132d6629e475f2117568a9041...     25   \n",
       "2      969daefac09c760c75e0a131d4397ef43278151ead9232...     12   \n",
       "3      2f8a302052389f20fbe09e144c60917e5495312f7a83bc...     49   \n",
       "4      10bf851621a8a69b0900f3b5f3c0904a45f2b952e6e2d4...     11   \n",
       "...                                                  ...    ...   \n",
       "44840  0d191c1f3201c942f756d9606dccd6e09f5de3aec39bc5...     16   \n",
       "44841  2ffd16471ccf01091e720859f52f4dd54e59a008ce6b05...     20   \n",
       "44842  fdf340c2f0376f6a382e68f79b619f87263c34d2621600...     11   \n",
       "44843  455e87f959ba40caca6d27e8612fc712f25bf7948906a1...     27   \n",
       "44844  bc5633ce52ef3f164e14f16777a8079b1f130be28fd0b1...     21   \n",
       "\n",
       "        donate_total  sess_with_abusers_amt_1  sess_with_abusers_amt_2  \\\n",
       "0       11972.219727                 0.000000                 0.000000   \n",
       "1        8000.000000                 9.800000                13.600000   \n",
       "2        5408.120117                 7.833333                 0.000000   \n",
       "3      121067.437500                 9.285714                 7.250000   \n",
       "4        4194.000000                 4.857143                 4.571429   \n",
       "...              ...                      ...                      ...   \n",
       "44840    7740.000000                 0.000000                 0.000000   \n",
       "44841   20686.000000                 7.857143                 7.000000   \n",
       "44842   12286.000000                 2.666667                 4.000000   \n",
       "44843   51776.738281                 0.000000                 1.000000   \n",
       "44844    3162.000000                 6.500000                 5.666667   \n",
       "\n",
       "       sess_with_abusers_amt_3  sess_with_abusers_amt_4  session_amt_1  \\\n",
       "0                     0.000000                 0.000000       0.000000   \n",
       "1                    11.600000                10.500000       0.800000   \n",
       "2                     0.000000                 0.000000       0.333333   \n",
       "3                     5.000000                 4.500000       2.714286   \n",
       "4                     4.000000                 5.571429       1.571429   \n",
       "...                        ...                      ...            ...   \n",
       "44840                 0.000000                 0.000000       0.000000   \n",
       "44841                 6.428571                11.500000       4.142857   \n",
       "44842                 3.500000                 0.000000       0.666667   \n",
       "44843                 1.000000                 0.000000       0.666667   \n",
       "44844                 8.285714                10.166667       3.333333   \n",
       "\n",
       "       session_amt_2  session_amt_3  ...  silver_spent_2  silver_spent_3  \\\n",
       "0           0.000000       0.000000  ...        0.000000        0.000000   \n",
       "1           1.000000       1.200000  ...      660.000000     2560.000000   \n",
       "2           0.000000       0.000000  ...        0.000000        0.000000   \n",
       "3           1.250000       1.400000  ...   110250.000000    10000.000000   \n",
       "4           1.714286       1.428571  ...    17792.857143    19857.142857   \n",
       "...              ...            ...  ...             ...             ...   \n",
       "44840       1.000000       0.000000  ...        0.000000        0.000000   \n",
       "44841       2.714286       4.000000  ...      857.142857    11828.571429   \n",
       "44842       1.250000       0.750000  ...     5800.000000     2250.000000   \n",
       "44843       0.857143       1.333333  ...     2571.428571        0.000000   \n",
       "44844       1.000000       3.142857  ...     3300.000000     4142.857143   \n",
       "\n",
       "       silver_spent_4  gold_spent_1  gold_spent_2  gold_spent_3  gold_spent_4  \\\n",
       "0            0.000000      0.000000      0.000000      0.000000      0.000000   \n",
       "1            0.000000      0.000000      0.000000      0.000000      0.000000   \n",
       "2            0.000000      4.666667      0.000000      0.000000      0.000000   \n",
       "3         6000.000000      1.428571    155.000000      0.000000      0.000000   \n",
       "4            0.000000      0.000000    168.571429     25.714286    101.714286   \n",
       "...               ...           ...           ...           ...           ...   \n",
       "44840        0.000000      0.000000      0.000000      0.000000      0.000000   \n",
       "44841     7122.857143    187.428571      4.285714      4.000000    209.428571   \n",
       "44842        0.000000     25.000000     59.000000     22.500000      0.000000   \n",
       "44843        0.000000      0.000000     28.285714    200.000000      0.000000   \n",
       "44844     6216.666667      0.000000      0.000000      2.571429      0.000000   \n",
       "\n",
       "       Type_Core  Type_Returns  Type_Mantle  \n",
       "0              0             0            0  \n",
       "1              1             0            0  \n",
       "2              0             1            0  \n",
       "3              1             0            0  \n",
       "4              1             0            0  \n",
       "...          ...           ...          ...  \n",
       "44840          0             1            0  \n",
       "44841          1             0            0  \n",
       "44842          1             0            0  \n",
       "44843          1             0            0  \n",
       "44844          1             0            0  \n",
       "\n",
       "[44845 rows x 64 columns]"
      ]
     },
     "execution_count": 115,
     "metadata": {},
     "output_type": "execute_result"
    }
   ],
   "source": [
    "df"
   ]
  },
  {
   "cell_type": "code",
   "execution_count": 141,
   "metadata": {
    "ExecuteTime": {
     "end_time": "2020-04-01T08:18:16.547652Z",
     "start_time": "2020-04-01T08:18:16.543498Z"
    }
   },
   "outputs": [],
   "source": [
    "import processing.modeling as mdd\n",
    "import processing.tools as t\n",
    "import warnings\n",
    "warnings.filterwarnings(\"ignore\")"
   ]
  },
  {
   "cell_type": "code",
   "execution_count": 135,
   "metadata": {
    "ExecuteTime": {
     "end_time": "2020-04-01T08:16:35.418492Z",
     "start_time": "2020-04-01T08:16:26.920711Z"
    }
   },
   "outputs": [
    {
     "name": "stderr",
     "output_type": "stream",
     "text": [
      "DEBUG:root:File `ds/dataset_train.csv.gz` loaded in 8.49 sec\n"
     ]
    }
   ],
   "source": [
    "df = t.loadDF('ds/dataset_train.csv.gz')"
   ]
  },
  {
   "cell_type": "code",
   "execution_count": 215,
   "metadata": {
    "ExecuteTime": {
     "end_time": "2020-04-01T10:24:31.381571Z",
     "start_time": "2020-04-01T10:24:28.906007Z"
    }
   },
   "outputs": [
    {
     "name": "stderr",
     "output_type": "stream",
     "text": [
      "INFO:root:Model already exists ... loading\n"
     ]
    }
   ],
   "source": [
    "importlib.reload(mdd)\n",
    "md = mdd.Model(data=df, model_folder='model')"
   ]
  },
  {
   "cell_type": "code",
   "execution_count": 173,
   "metadata": {
    "ExecuteTime": {
     "end_time": "2020-04-01T09:03:57.733515Z",
     "start_time": "2020-04-01T09:03:31.425880Z"
    }
   },
   "outputs": [
    {
     "data": {
      "text/plain": [
       "0.24549549549549549"
      ]
     },
     "execution_count": 173,
     "metadata": {},
     "output_type": "execute_result"
    }
   ],
   "source": [
    "md.baseline()"
   ]
  },
  {
   "cell_type": "code",
   "execution_count": 174,
   "metadata": {
    "ExecuteTime": {
     "end_time": "2020-04-01T09:04:55.322761Z",
     "start_time": "2020-04-01T09:03:57.741310Z"
    }
   },
   "outputs": [
    {
     "data": {
      "text/plain": [
       "0.3566208710903244"
      ]
     },
     "execution_count": 174,
     "metadata": {},
     "output_type": "execute_result"
    }
   ],
   "source": [
    "md.test()"
   ]
  },
  {
   "cell_type": "code",
   "execution_count": 176,
   "metadata": {
    "ExecuteTime": {
     "end_time": "2020-04-01T09:12:03.177148Z",
     "start_time": "2020-04-01T09:09:02.032305Z"
    }
   },
   "outputs": [
    {
     "data": {
      "text/plain": [
       "0.8565501032211978"
      ]
     },
     "execution_count": 176,
     "metadata": {},
     "output_type": "execute_result"
    }
   ],
   "source": [
    "md.crossValidate()"
   ]
  },
  {
   "cell_type": "code",
   "execution_count": 206,
   "metadata": {
    "ExecuteTime": {
     "end_time": "2020-04-01T10:12:32.142003Z",
     "start_time": "2020-04-01T10:12:26.872716Z"
    }
   },
   "outputs": [
    {
     "data": {
      "text/plain": [
       "session_amt_4              0.086957\n",
       "session_amt_3              0.084649\n",
       "session_player_4           0.083161\n",
       "level                      0.082844\n",
       "session_player_3           0.081196\n",
       "sess_with_abusers_amt_4    0.079775\n",
       "sess_with_abusers_amt_3    0.078527\n",
       "session_amt_2              0.076528\n",
       "session_player_2           0.076346\n",
       "sess_with_abusers_amt_2    0.075718\n",
       "reports_amt_4              0.052142\n",
       "reports_amt_3              0.051999\n",
       "reports_amt_2              0.050671\n",
       "has_return_date            0.047001\n",
       "sess_with_abusers_amt_1    0.040786\n",
       "trans_amt_4                0.039186\n",
       "session_player_1           0.038794\n",
       "trans_amt_2                0.038776\n",
       "win_rate_4                 0.038741\n",
       "reports_amt_1              0.038356\n",
       "trans_amt_3                0.037413\n",
       "donate_total               0.035794\n",
       "trans_amt_1                0.033898\n",
       "silver_spent_4             0.030019\n",
       "silver_spent_3             0.027034\n",
       "pay_amt_2                  0.027008\n",
       "pay_amt_4                  0.026647\n",
       "win_rate_3                 0.025570\n",
       "pay_amt_3                  0.025544\n",
       "silver_spent_2             0.025124\n",
       "pay_amt_1                  0.023462\n",
       "gold_spent_4               0.022168\n",
       "disconnect_amt_1           0.021312\n",
       "win_rate_2                 0.021254\n",
       "gold_spent_2               0.020399\n",
       "gold_spent_3               0.019878\n",
       "avg_min_ping_1             0.019275\n",
       "leavings_rate_4            0.015807\n",
       "leavings_rate_1            0.013277\n",
       "disconnect_amt_4           0.013168\n",
       "avg_min_ping_4             0.012563\n",
       "disconnect_amt_3           0.012435\n",
       "kd_4                       0.012246\n",
       "avg_min_ping_3             0.011763\n",
       "Name: target, dtype: float64"
      ]
     },
     "execution_count": 206,
     "metadata": {},
     "output_type": "execute_result"
    }
   ],
   "source": [
    "md.selectFeatures()"
   ]
  },
  {
   "cell_type": "code",
   "execution_count": 178,
   "metadata": {
    "ExecuteTime": {
     "end_time": "2020-04-01T09:14:30.862614Z",
     "start_time": "2020-04-01T09:12:48.254252Z"
    }
   },
   "outputs": [
    {
     "data": {
      "text/plain": [
       "0.8264977470787286"
      ]
     },
     "execution_count": 178,
     "metadata": {},
     "output_type": "execute_result"
    }
   ],
   "source": [
    "md.crossValidate()"
   ]
  },
  {
   "cell_type": "code",
   "execution_count": 192,
   "metadata": {
    "ExecuteTime": {
     "end_time": "2020-04-01T09:47:51.018787Z",
     "start_time": "2020-04-01T09:41:04.100696Z"
    }
   },
   "outputs": [
    {
     "data": {
      "text/plain": [
       "0.8299544625041103"
      ]
     },
     "execution_count": 192,
     "metadata": {},
     "output_type": "execute_result"
    }
   ],
   "source": [
    "grid = {\n",
    "    'max_depth': [3, 5],\n",
    "    'n_estimators': [20, 100],\n",
    "    'learning_rate': [0.1, 0.01],\n",
    "    'reg_lambda': [0., 0.5]\n",
    "}\n",
    "\n",
    "md.selectParams(grid=grid)"
   ]
  },
  {
   "cell_type": "code",
   "execution_count": 207,
   "metadata": {
    "ExecuteTime": {
     "end_time": "2020-04-01T10:13:34.017585Z",
     "start_time": "2020-04-01T10:12:35.425229Z"
    }
   },
   "outputs": [
    {
     "data": {
      "text/plain": [
       "XGBClassifier(base_score=0.5, booster='gbtree', colsample_bylevel=1,\n",
       "       colsample_bynode=1, colsample_bytree=0.5, gamma=0,\n",
       "       learning_rate=0.1, max_delta_step=0, max_depth=3,\n",
       "       min_child_weight=1, min_child_weight =3, missing=10000000000.0,\n",
       "       n_estimators=100, n_jobs=1, nthread=5, objective='binary:logistic',\n",
       "       random_state=0, reg_alpha=0.0, reg_lambda=0.0, scale_pos_weight=1,\n",
       "       seed=42, silent=None, subsample=1.0, verbosity=1)"
      ]
     },
     "execution_count": 207,
     "metadata": {},
     "output_type": "execute_result"
    }
   ],
   "source": [
    "md.fit_save()"
   ]
  },
  {
   "cell_type": "code",
   "execution_count": 208,
   "metadata": {
    "ExecuteTime": {
     "end_time": "2020-04-01T10:14:20.429975Z",
     "start_time": "2020-04-01T10:14:17.669832Z"
    }
   },
   "outputs": [
    {
     "name": "stderr",
     "output_type": "stream",
     "text": [
      "DEBUG:root:File `ds/dataset_test.csv.gz` loaded in 2.75 sec\n"
     ]
    }
   ],
   "source": [
    "test = t.loadDF('ds/dataset_test.csv.gz')"
   ]
  },
  {
   "cell_type": "code",
   "execution_count": 216,
   "metadata": {
    "ExecuteTime": {
     "end_time": "2020-04-01T10:24:38.373109Z",
     "start_time": "2020-04-01T10:24:38.103181Z"
    }
   },
   "outputs": [
    {
     "data": {
      "text/html": [
       "<div>\n",
       "<style scoped>\n",
       "    .dataframe tbody tr th:only-of-type {\n",
       "        vertical-align: middle;\n",
       "    }\n",
       "\n",
       "    .dataframe tbody tr th {\n",
       "        vertical-align: top;\n",
       "    }\n",
       "\n",
       "    .dataframe thead th {\n",
       "        text-align: right;\n",
       "    }\n",
       "</style>\n",
       "<table border=\"1\" class=\"dataframe\">\n",
       "  <thead>\n",
       "    <tr style=\"text-align: right;\">\n",
       "      <th></th>\n",
       "      <th>user_id</th>\n",
       "      <th>level</th>\n",
       "      <th>donate_total</th>\n",
       "      <th>pay_amt_1</th>\n",
       "      <th>pay_amt_2</th>\n",
       "      <th>pay_amt_3</th>\n",
       "      <th>pay_amt_4</th>\n",
       "      <th>trans_amt_1</th>\n",
       "      <th>trans_amt_2</th>\n",
       "      <th>trans_amt_3</th>\n",
       "      <th>...</th>\n",
       "      <th>silver_spent_2</th>\n",
       "      <th>silver_spent_3</th>\n",
       "      <th>silver_spent_4</th>\n",
       "      <th>age</th>\n",
       "      <th>gender</th>\n",
       "      <th>days_between_reg_fl</th>\n",
       "      <th>days_between_fl_df</th>\n",
       "      <th>has_return_date</th>\n",
       "      <th>has_phone_number</th>\n",
       "      <th>is_churned</th>\n",
       "    </tr>\n",
       "  </thead>\n",
       "  <tbody>\n",
       "    <tr>\n",
       "      <th>0</th>\n",
       "      <td>0bda14606761d90210e6e5f7432b5a5c2f7cbda6d5144e...</td>\n",
       "      <td>13</td>\n",
       "      <td>11972.219727</td>\n",
       "      <td>0.0</td>\n",
       "      <td>0.0</td>\n",
       "      <td>0.0</td>\n",
       "      <td>0.0</td>\n",
       "      <td>0.0</td>\n",
       "      <td>0.0</td>\n",
       "      <td>0.0</td>\n",
       "      <td>...</td>\n",
       "      <td>0.000000</td>\n",
       "      <td>0.000000</td>\n",
       "      <td>0.0</td>\n",
       "      <td>28.0</td>\n",
       "      <td>1.0</td>\n",
       "      <td>0</td>\n",
       "      <td>197</td>\n",
       "      <td>1</td>\n",
       "      <td>1</td>\n",
       "      <td>0</td>\n",
       "    </tr>\n",
       "    <tr>\n",
       "      <th>1</th>\n",
       "      <td>beaabc52f2f369d27d4b4132d6629e475f2117568a9041...</td>\n",
       "      <td>25</td>\n",
       "      <td>8000.000000</td>\n",
       "      <td>0.0</td>\n",
       "      <td>0.0</td>\n",
       "      <td>0.0</td>\n",
       "      <td>0.0</td>\n",
       "      <td>0.0</td>\n",
       "      <td>0.0</td>\n",
       "      <td>0.0</td>\n",
       "      <td>...</td>\n",
       "      <td>660.000000</td>\n",
       "      <td>2560.000000</td>\n",
       "      <td>0.0</td>\n",
       "      <td>39.0</td>\n",
       "      <td>1.0</td>\n",
       "      <td>0</td>\n",
       "      <td>999</td>\n",
       "      <td>1</td>\n",
       "      <td>1</td>\n",
       "      <td>0</td>\n",
       "    </tr>\n",
       "    <tr>\n",
       "      <th>2</th>\n",
       "      <td>969daefac09c760c75e0a131d4397ef43278151ead9232...</td>\n",
       "      <td>12</td>\n",
       "      <td>5408.120117</td>\n",
       "      <td>500.0</td>\n",
       "      <td>0.0</td>\n",
       "      <td>0.0</td>\n",
       "      <td>0.0</td>\n",
       "      <td>1.0</td>\n",
       "      <td>0.0</td>\n",
       "      <td>0.0</td>\n",
       "      <td>...</td>\n",
       "      <td>0.000000</td>\n",
       "      <td>0.000000</td>\n",
       "      <td>0.0</td>\n",
       "      <td>17.0</td>\n",
       "      <td>1.0</td>\n",
       "      <td>0</td>\n",
       "      <td>22</td>\n",
       "      <td>1</td>\n",
       "      <td>1</td>\n",
       "      <td>0</td>\n",
       "    </tr>\n",
       "    <tr>\n",
       "      <th>3</th>\n",
       "      <td>2f8a302052389f20fbe09e144c60917e5495312f7a83bc...</td>\n",
       "      <td>49</td>\n",
       "      <td>121067.437500</td>\n",
       "      <td>450.0</td>\n",
       "      <td>600.0</td>\n",
       "      <td>0.0</td>\n",
       "      <td>0.0</td>\n",
       "      <td>1.0</td>\n",
       "      <td>1.0</td>\n",
       "      <td>0.0</td>\n",
       "      <td>...</td>\n",
       "      <td>110250.000000</td>\n",
       "      <td>10000.000000</td>\n",
       "      <td>6000.0</td>\n",
       "      <td>23.0</td>\n",
       "      <td>0.0</td>\n",
       "      <td>0</td>\n",
       "      <td>131</td>\n",
       "      <td>1</td>\n",
       "      <td>1</td>\n",
       "      <td>0</td>\n",
       "    </tr>\n",
       "    <tr>\n",
       "      <th>4</th>\n",
       "      <td>10bf851621a8a69b0900f3b5f3c0904a45f2b952e6e2d4...</td>\n",
       "      <td>11</td>\n",
       "      <td>4194.000000</td>\n",
       "      <td>392.0</td>\n",
       "      <td>541.0</td>\n",
       "      <td>0.0</td>\n",
       "      <td>342.0</td>\n",
       "      <td>1.0</td>\n",
       "      <td>2.0</td>\n",
       "      <td>0.0</td>\n",
       "      <td>...</td>\n",
       "      <td>17792.857143</td>\n",
       "      <td>19857.142857</td>\n",
       "      <td>0.0</td>\n",
       "      <td>11.0</td>\n",
       "      <td>1.0</td>\n",
       "      <td>0</td>\n",
       "      <td>0</td>\n",
       "      <td>1</td>\n",
       "      <td>1</td>\n",
       "      <td>0</td>\n",
       "    </tr>\n",
       "  </tbody>\n",
       "</table>\n",
       "<p>5 rows × 62 columns</p>\n",
       "</div>"
      ],
      "text/plain": [
       "                                             user_id  level   donate_total  \\\n",
       "0  0bda14606761d90210e6e5f7432b5a5c2f7cbda6d5144e...     13   11972.219727   \n",
       "1  beaabc52f2f369d27d4b4132d6629e475f2117568a9041...     25    8000.000000   \n",
       "2  969daefac09c760c75e0a131d4397ef43278151ead9232...     12    5408.120117   \n",
       "3  2f8a302052389f20fbe09e144c60917e5495312f7a83bc...     49  121067.437500   \n",
       "4  10bf851621a8a69b0900f3b5f3c0904a45f2b952e6e2d4...     11    4194.000000   \n",
       "\n",
       "   pay_amt_1  pay_amt_2  pay_amt_3  pay_amt_4  trans_amt_1  trans_amt_2  \\\n",
       "0        0.0        0.0        0.0        0.0          0.0          0.0   \n",
       "1        0.0        0.0        0.0        0.0          0.0          0.0   \n",
       "2      500.0        0.0        0.0        0.0          1.0          0.0   \n",
       "3      450.0      600.0        0.0        0.0          1.0          1.0   \n",
       "4      392.0      541.0        0.0      342.0          1.0          2.0   \n",
       "\n",
       "   trans_amt_3  ...  silver_spent_2  silver_spent_3  silver_spent_4   age  \\\n",
       "0          0.0  ...        0.000000        0.000000             0.0  28.0   \n",
       "1          0.0  ...      660.000000     2560.000000             0.0  39.0   \n",
       "2          0.0  ...        0.000000        0.000000             0.0  17.0   \n",
       "3          0.0  ...   110250.000000    10000.000000          6000.0  23.0   \n",
       "4          0.0  ...    17792.857143    19857.142857             0.0  11.0   \n",
       "\n",
       "   gender  days_between_reg_fl  days_between_fl_df  has_return_date  \\\n",
       "0     1.0                    0                 197                1   \n",
       "1     1.0                    0                 999                1   \n",
       "2     1.0                    0                  22                1   \n",
       "3     0.0                    0                 131                1   \n",
       "4     1.0                    0                   0                1   \n",
       "\n",
       "   has_phone_number  is_churned  \n",
       "0                 1           0  \n",
       "1                 1           0  \n",
       "2                 1           0  \n",
       "3                 1           0  \n",
       "4                 1           0  \n",
       "\n",
       "[5 rows x 62 columns]"
      ]
     },
     "execution_count": 216,
     "metadata": {},
     "output_type": "execute_result"
    }
   ],
   "source": [
    "test['is_churned'] = md.predict(test)\n",
    "test.head()"
   ]
  },
  {
   "cell_type": "code",
   "execution_count": 217,
   "metadata": {
    "ExecuteTime": {
     "end_time": "2020-04-01T10:24:45.454217Z",
     "start_time": "2020-04-01T10:24:45.238173Z"
    }
   },
   "outputs": [
    {
     "data": {
      "text/html": [
       "<div>\n",
       "<style scoped>\n",
       "    .dataframe tbody tr th:only-of-type {\n",
       "        vertical-align: middle;\n",
       "    }\n",
       "\n",
       "    .dataframe tbody tr th {\n",
       "        vertical-align: top;\n",
       "    }\n",
       "\n",
       "    .dataframe thead th {\n",
       "        text-align: right;\n",
       "    }\n",
       "</style>\n",
       "<table border=\"1\" class=\"dataframe\">\n",
       "  <thead>\n",
       "    <tr style=\"text-align: right;\">\n",
       "      <th></th>\n",
       "      <th>user_id</th>\n",
       "      <th>level</th>\n",
       "      <th>donate_total</th>\n",
       "      <th>pay_amt_1</th>\n",
       "      <th>pay_amt_2</th>\n",
       "      <th>pay_amt_3</th>\n",
       "      <th>pay_amt_4</th>\n",
       "      <th>trans_amt_1</th>\n",
       "      <th>trans_amt_2</th>\n",
       "      <th>trans_amt_3</th>\n",
       "      <th>...</th>\n",
       "      <th>silver_spent_3</th>\n",
       "      <th>silver_spent_4</th>\n",
       "      <th>age</th>\n",
       "      <th>gender</th>\n",
       "      <th>days_between_reg_fl</th>\n",
       "      <th>days_between_fl_df</th>\n",
       "      <th>has_return_date</th>\n",
       "      <th>has_phone_number</th>\n",
       "      <th>is_churned</th>\n",
       "      <th>is_churned_proba</th>\n",
       "    </tr>\n",
       "  </thead>\n",
       "  <tbody>\n",
       "    <tr>\n",
       "      <th>0</th>\n",
       "      <td>0bda14606761d90210e6e5f7432b5a5c2f7cbda6d5144e...</td>\n",
       "      <td>13</td>\n",
       "      <td>11972.219727</td>\n",
       "      <td>0.0</td>\n",
       "      <td>0.0</td>\n",
       "      <td>0.0</td>\n",
       "      <td>0.0</td>\n",
       "      <td>0.0</td>\n",
       "      <td>0.0</td>\n",
       "      <td>0.0</td>\n",
       "      <td>...</td>\n",
       "      <td>0.000000</td>\n",
       "      <td>0.0</td>\n",
       "      <td>28.0</td>\n",
       "      <td>1.0</td>\n",
       "      <td>0</td>\n",
       "      <td>197</td>\n",
       "      <td>1</td>\n",
       "      <td>1</td>\n",
       "      <td>0</td>\n",
       "      <td>0.330210</td>\n",
       "    </tr>\n",
       "    <tr>\n",
       "      <th>1</th>\n",
       "      <td>beaabc52f2f369d27d4b4132d6629e475f2117568a9041...</td>\n",
       "      <td>25</td>\n",
       "      <td>8000.000000</td>\n",
       "      <td>0.0</td>\n",
       "      <td>0.0</td>\n",
       "      <td>0.0</td>\n",
       "      <td>0.0</td>\n",
       "      <td>0.0</td>\n",
       "      <td>0.0</td>\n",
       "      <td>0.0</td>\n",
       "      <td>...</td>\n",
       "      <td>2560.000000</td>\n",
       "      <td>0.0</td>\n",
       "      <td>39.0</td>\n",
       "      <td>1.0</td>\n",
       "      <td>0</td>\n",
       "      <td>999</td>\n",
       "      <td>1</td>\n",
       "      <td>1</td>\n",
       "      <td>0</td>\n",
       "      <td>0.074986</td>\n",
       "    </tr>\n",
       "    <tr>\n",
       "      <th>2</th>\n",
       "      <td>969daefac09c760c75e0a131d4397ef43278151ead9232...</td>\n",
       "      <td>12</td>\n",
       "      <td>5408.120117</td>\n",
       "      <td>500.0</td>\n",
       "      <td>0.0</td>\n",
       "      <td>0.0</td>\n",
       "      <td>0.0</td>\n",
       "      <td>1.0</td>\n",
       "      <td>0.0</td>\n",
       "      <td>0.0</td>\n",
       "      <td>...</td>\n",
       "      <td>0.000000</td>\n",
       "      <td>0.0</td>\n",
       "      <td>17.0</td>\n",
       "      <td>1.0</td>\n",
       "      <td>0</td>\n",
       "      <td>22</td>\n",
       "      <td>1</td>\n",
       "      <td>1</td>\n",
       "      <td>0</td>\n",
       "      <td>0.383770</td>\n",
       "    </tr>\n",
       "    <tr>\n",
       "      <th>3</th>\n",
       "      <td>2f8a302052389f20fbe09e144c60917e5495312f7a83bc...</td>\n",
       "      <td>49</td>\n",
       "      <td>121067.437500</td>\n",
       "      <td>450.0</td>\n",
       "      <td>600.0</td>\n",
       "      <td>0.0</td>\n",
       "      <td>0.0</td>\n",
       "      <td>1.0</td>\n",
       "      <td>1.0</td>\n",
       "      <td>0.0</td>\n",
       "      <td>...</td>\n",
       "      <td>10000.000000</td>\n",
       "      <td>6000.0</td>\n",
       "      <td>23.0</td>\n",
       "      <td>0.0</td>\n",
       "      <td>0</td>\n",
       "      <td>131</td>\n",
       "      <td>1</td>\n",
       "      <td>1</td>\n",
       "      <td>0</td>\n",
       "      <td>0.011774</td>\n",
       "    </tr>\n",
       "    <tr>\n",
       "      <th>4</th>\n",
       "      <td>10bf851621a8a69b0900f3b5f3c0904a45f2b952e6e2d4...</td>\n",
       "      <td>11</td>\n",
       "      <td>4194.000000</td>\n",
       "      <td>392.0</td>\n",
       "      <td>541.0</td>\n",
       "      <td>0.0</td>\n",
       "      <td>342.0</td>\n",
       "      <td>1.0</td>\n",
       "      <td>2.0</td>\n",
       "      <td>0.0</td>\n",
       "      <td>...</td>\n",
       "      <td>19857.142857</td>\n",
       "      <td>0.0</td>\n",
       "      <td>11.0</td>\n",
       "      <td>1.0</td>\n",
       "      <td>0</td>\n",
       "      <td>0</td>\n",
       "      <td>1</td>\n",
       "      <td>1</td>\n",
       "      <td>0</td>\n",
       "      <td>0.030276</td>\n",
       "    </tr>\n",
       "  </tbody>\n",
       "</table>\n",
       "<p>5 rows × 63 columns</p>\n",
       "</div>"
      ],
      "text/plain": [
       "                                             user_id  level   donate_total  \\\n",
       "0  0bda14606761d90210e6e5f7432b5a5c2f7cbda6d5144e...     13   11972.219727   \n",
       "1  beaabc52f2f369d27d4b4132d6629e475f2117568a9041...     25    8000.000000   \n",
       "2  969daefac09c760c75e0a131d4397ef43278151ead9232...     12    5408.120117   \n",
       "3  2f8a302052389f20fbe09e144c60917e5495312f7a83bc...     49  121067.437500   \n",
       "4  10bf851621a8a69b0900f3b5f3c0904a45f2b952e6e2d4...     11    4194.000000   \n",
       "\n",
       "   pay_amt_1  pay_amt_2  pay_amt_3  pay_amt_4  trans_amt_1  trans_amt_2  \\\n",
       "0        0.0        0.0        0.0        0.0          0.0          0.0   \n",
       "1        0.0        0.0        0.0        0.0          0.0          0.0   \n",
       "2      500.0        0.0        0.0        0.0          1.0          0.0   \n",
       "3      450.0      600.0        0.0        0.0          1.0          1.0   \n",
       "4      392.0      541.0        0.0      342.0          1.0          2.0   \n",
       "\n",
       "   trans_amt_3  ...  silver_spent_3  silver_spent_4   age  gender  \\\n",
       "0          0.0  ...        0.000000             0.0  28.0     1.0   \n",
       "1          0.0  ...     2560.000000             0.0  39.0     1.0   \n",
       "2          0.0  ...        0.000000             0.0  17.0     1.0   \n",
       "3          0.0  ...    10000.000000          6000.0  23.0     0.0   \n",
       "4          0.0  ...    19857.142857             0.0  11.0     1.0   \n",
       "\n",
       "   days_between_reg_fl  days_between_fl_df  has_return_date  has_phone_number  \\\n",
       "0                    0                 197                1                 1   \n",
       "1                    0                 999                1                 1   \n",
       "2                    0                  22                1                 1   \n",
       "3                    0                 131                1                 1   \n",
       "4                    0                   0                1                 1   \n",
       "\n",
       "   is_churned  is_churned_proba  \n",
       "0           0          0.330210  \n",
       "1           0          0.074986  \n",
       "2           0          0.383770  \n",
       "3           0          0.011774  \n",
       "4           0          0.030276  \n",
       "\n",
       "[5 rows x 63 columns]"
      ]
     },
     "execution_count": 217,
     "metadata": {},
     "output_type": "execute_result"
    }
   ],
   "source": [
    "test['is_churned_proba'] = md.predict_proba(test)\n",
    "test.head()"
   ]
  }
 ],
 "metadata": {
  "kernelspec": {
   "display_name": "Python 3",
   "language": "python",
   "name": "python3"
  },
  "language_info": {
   "codemirror_mode": {
    "name": "ipython",
    "version": 3
   },
   "file_extension": ".py",
   "mimetype": "text/x-python",
   "name": "python",
   "nbconvert_exporter": "python",
   "pygments_lexer": "ipython3",
   "version": "3.7.1"
  },
  "toc": {
   "base_numbering": 1,
   "nav_menu": {},
   "number_sections": true,
   "sideBar": true,
   "skip_h1_title": false,
   "title_cell": "Table of Contents",
   "title_sidebar": "Contents",
   "toc_cell": false,
   "toc_position": {},
   "toc_section_display": true,
   "toc_window_display": false
  }
 },
 "nbformat": 4,
 "nbformat_minor": 2
}
